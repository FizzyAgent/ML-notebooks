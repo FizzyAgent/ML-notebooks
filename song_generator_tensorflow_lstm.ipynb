{
  "nbformat": 4,
  "nbformat_minor": 0,
  "metadata": {
    "colab": {
      "name": "Word Generator",
      "provenance": [],
      "collapsed_sections": []
    },
    "kernelspec": {
      "name": "python3",
      "display_name": "Python 3"
    },
    "accelerator": "GPU"
  },
  "cells": [
    {
      "cell_type": "code",
      "metadata": {
        "id": "1Is30HokQxOs",
        "colab": {
          "base_uri": "https://localhost:8080/",
          "height": 121
        },
        "outputId": "aa0f690f-09c8-4e73-e37e-dbc410d7b867"
      },
      "source": [
        "from google.colab import drive\n",
        "drive.mount('/content/drive')"
      ],
      "execution_count": null,
      "outputs": [
        {
          "output_type": "stream",
          "text": [
            "Go to this URL in a browser: https://accounts.google.com/o/oauth2/auth?client_id=947318989803-6bn6qk8qdgf4n4g3pfee6491hc0brc4i.apps.googleusercontent.com&redirect_uri=urn%3aietf%3awg%3aoauth%3a2.0%3aoob&response_type=code&scope=email%20https%3a%2f%2fwww.googleapis.com%2fauth%2fdocs.test%20https%3a%2f%2fwww.googleapis.com%2fauth%2fdrive%20https%3a%2f%2fwww.googleapis.com%2fauth%2fdrive.photos.readonly%20https%3a%2f%2fwww.googleapis.com%2fauth%2fpeopleapi.readonly\n",
            "\n",
            "Enter your authorization code:\n",
            "··········\n",
            "Mounted at /content/drive\n"
          ],
          "name": "stdout"
        }
      ]
    },
    {
      "cell_type": "code",
      "metadata": {
        "id": "74-qXDHsPpyn"
      },
      "source": [
        "import numpy as np \n",
        "import matplotlib.pyplot as plt\n",
        "\n",
        "import tensorflow as tf\n",
        "from tensorflow.keras.preprocessing.sequence import pad_sequences\n",
        "from tensorflow.keras.preprocessing.text import Tokenizer"
      ],
      "execution_count": null,
      "outputs": []
    },
    {
      "cell_type": "code",
      "metadata": {
        "id": "XJzbOq2JRGiz"
      },
      "source": [
        "data = open('/content/drive/My Drive/Colab Notebooks/TSF/Resources/pop.txt').read()"
      ],
      "execution_count": null,
      "outputs": []
    },
    {
      "cell_type": "code",
      "metadata": {
        "id": "ERkG7S_ERVUs",
        "colab": {
          "base_uri": "https://localhost:8080/"
        },
        "outputId": "2dfbce53-cb3c-41ad-bbcc-81fd58ed6319"
      },
      "source": [
        "tokenizer = Tokenizer()\n",
        "corpus = data.lower().split(\"\\n\")\n",
        "\n",
        "tokenizer.fit_on_texts(corpus)\n",
        "word_count = len(tokenizer.word_index) + 1\n",
        "print(\"Total number of words: \" + str(word_count))"
      ],
      "execution_count": null,
      "outputs": [
        {
          "output_type": "stream",
          "text": [
            "Total number of words: 1921\n"
          ],
          "name": "stdout"
        }
      ]
    },
    {
      "cell_type": "code",
      "metadata": {
        "id": "4OY79RKxRq0U"
      },
      "source": [
        "input_sequences = []\n",
        "\n",
        "for line in corpus:\n",
        "  sequence = tokenizer.texts_to_sequences([line])[0]\n",
        "  for i in range(1, len(sequence)):\n",
        "    input_sequences.append(sequence[:i+1])\n",
        "\n",
        "max_length = max([len(x) for x in input_sequences])\n",
        "input_sequences = np.array(pad_sequences(input_sequences, maxlen = max_length, padding = 'pre'))\n",
        "\n",
        "xs, labels = input_sequences[:,:-1],input_sequences[:,-1]\n",
        "ys = tf.keras.utils.to_categorical(labels, num_classes = word_count)"
      ],
      "execution_count": null,
      "outputs": []
    },
    {
      "cell_type": "code",
      "metadata": {
        "id": "4P_ZkeWWdu-z"
      },
      "source": [
        "starting_lr = 1e-4\n",
        "\n",
        "lr_schedule = tf.keras.callbacks.LearningRateScheduler(\n",
        "    lambda epoch: starting_lr * 10**(epoch / 20))"
      ],
      "execution_count": null,
      "outputs": []
    },
    {
      "cell_type": "code",
      "metadata": {
        "id": "ZH_61iOQJPyx"
      },
      "source": [
        "def create_model():\n",
        "    return tf.keras.models.Sequential([\n",
        "      tf.keras.layers.Embedding(word_count, 128, input_length = max_length - 1),\n",
        "      tf.keras.layers.Bidirectional(tf.keras.layers.LSTM(128, return_sequences=True)),\n",
        "      tf.keras.layers.Bidirectional(tf.keras.layers.LSTM(64)),\n",
        "      tf.keras.layers.Dense(word_count, activation = 'softmax')\n",
        "    ])"
      ],
      "execution_count": null,
      "outputs": []
    },
    {
      "cell_type": "code",
      "metadata": {
        "id": "gTpc_nZ9Sl5t"
      },
      "source": [
        "model = create_model()\n",
        "\n",
        "model.compile(\n",
        "    loss = 'categorical_crossentropy',\n",
        "    optimizer = tf.keras.optimizers.Adam(lr = starting_lr),\n",
        "    metrics = ['accuracy']\n",
        ")\n",
        "\n",
        "lr_test_history = model.fit(xs, ys, epochs = 100, callbacks = [lr_schedule])"
      ],
      "execution_count": null,
      "outputs": []
    },
    {
      "cell_type": "code",
      "metadata": {
        "id": "4eJPBm9neGDh",
        "colab": {
          "base_uri": "https://localhost:8080/",
          "height": 290
        },
        "outputId": "7c21f6b2-0e80-47ab-ff6c-6f84f88db77e"
      },
      "source": [
        "lrs = starting_lr * (10 ** (np.arange(100) / 20))\n",
        "plt.semilogx(lrs, lr_test_history.history[\"loss\"])\n",
        "plt.axis([starting_lr, starting_lr * (10 ** 5), 0, 7])"
      ],
      "execution_count": null,
      "outputs": [
        {
          "output_type": "execute_result",
          "data": {
            "text/plain": [
              "(0.0001, 10.0, 0.0, 7.0)"
            ]
          },
          "metadata": {
            "tags": []
          },
          "execution_count": 20
        },
        {
          "output_type": "display_data",
          "data": {
            "image/png": "[encoded data removed]",
            "text/plain": [
              "<Figure size 432x288 with 1 Axes>"
            ]
          },
          "metadata": {
            "tags": [],
            "needs_background": "light"
          }
        }
      ]
    },
    {
      "cell_type": "code",
      "metadata": {
        "id": "LdUOL5-xTWOL",
        "colab": {
          "base_uri": "https://localhost:8080/"
        },
        "outputId": "8652efae-9d87-4240-8eec-a6903b90d7f2"
      },
      "source": [
        "model = create_model()\n",
        "\n",
        "model.compile(\n",
        "    loss = 'categorical_crossentropy',\n",
        "    optimizer = tf.keras.optimizers.Adam(lr = 0.009),\n",
        "    metrics = ['accuracy']\n",
        ")\n",
        "\n",
        "history = model.fit(xs, ys, epochs = 25)\n",
        "model.save('/content/drive/My Drive/Colab Notebooks/TSF/Models/pop_model')"
      ],
      "execution_count": null,
      "outputs": [
        {
          "output_type": "stream",
          "text": [
            "Epoch 1/25\n",
            "268/268 [==============================] - 7s 12ms/step - loss: 6.6294 - accuracy: 0.0280\n",
            "Epoch 2/25\n",
            "268/268 [==============================] - 3s 12ms/step - loss: 5.8899 - accuracy: 0.0494\n",
            "Epoch 3/25\n",
            "268/268 [==============================] - 3s 12ms/step - loss: 5.8191 - accuracy: 0.0636\n",
            "Epoch 4/25\n",
            "268/268 [==============================] - 3s 12ms/step - loss: 5.3230 - accuracy: 0.0917\n",
            "Epoch 5/25\n",
            "268/268 [==============================] - 3s 12ms/step - loss: 4.9846 - accuracy: 0.1254\n",
            "Epoch 6/25\n",
            "268/268 [==============================] - 3s 12ms/step - loss: 4.6980 - accuracy: 0.1523\n",
            "Epoch 7/25\n",
            "268/268 [==============================] - 3s 12ms/step - loss: 4.3333 - accuracy: 0.1898\n",
            "Epoch 8/25\n",
            "268/268 [==============================] - 3s 12ms/step - loss: 4.0133 - accuracy: 0.2295\n",
            "Epoch 9/25\n",
            "268/268 [==============================] - 3s 13ms/step - loss: 3.6189 - accuracy: 0.2693\n",
            "Epoch 10/25\n",
            "268/268 [==============================] - 3s 12ms/step - loss: 3.2812 - accuracy: 0.3063\n",
            "Epoch 11/25\n",
            "268/268 [==============================] - 3s 12ms/step - loss: 2.9798 - accuracy: 0.3475\n",
            "Epoch 12/25\n",
            "268/268 [==============================] - 3s 12ms/step - loss: 2.6487 - accuracy: 0.4051\n",
            "Epoch 13/25\n",
            "268/268 [==============================] - 3s 12ms/step - loss: 2.4089 - accuracy: 0.4416\n",
            "Epoch 14/25\n",
            "268/268 [==============================] - 3s 12ms/step - loss: 2.1429 - accuracy: 0.4947\n",
            "Epoch 15/25\n",
            "268/268 [==============================] - 3s 12ms/step - loss: 1.9937 - accuracy: 0.5217\n",
            "Epoch 16/25\n",
            "268/268 [==============================] - 3s 12ms/step - loss: 1.8030 - accuracy: 0.5618\n",
            "Epoch 17/25\n",
            "268/268 [==============================] - 3s 12ms/step - loss: 1.6111 - accuracy: 0.5978\n",
            "Epoch 18/25\n",
            "268/268 [==============================] - 3s 12ms/step - loss: 1.4328 - accuracy: 0.6345\n",
            "Epoch 19/25\n",
            "268/268 [==============================] - 3s 12ms/step - loss: 1.3629 - accuracy: 0.6599\n",
            "Epoch 20/25\n",
            "268/268 [==============================] - 3s 12ms/step - loss: 1.2798 - accuracy: 0.6689\n",
            "Epoch 21/25\n",
            "268/268 [==============================] - 3s 12ms/step - loss: 1.1656 - accuracy: 0.6986\n",
            "Epoch 22/25\n",
            "268/268 [==============================] - 3s 12ms/step - loss: 1.1243 - accuracy: 0.7071\n",
            "Epoch 23/25\n",
            "268/268 [==============================] - 3s 12ms/step - loss: 1.0781 - accuracy: 0.7171\n",
            "Epoch 24/25\n",
            "268/268 [==============================] - 3s 12ms/step - loss: 0.9646 - accuracy: 0.7444\n",
            "Epoch 25/25\n",
            "268/268 [==============================] - 4s 13ms/step - loss: 0.9797 - accuracy: 0.7317\n"
          ],
          "name": "stdout"
        },
        {
          "output_type": "stream",
          "text": [
            "WARNING:absl:Found untraced functions such as lstm_cell_40_layer_call_and_return_conditional_losses, lstm_cell_40_layer_call_fn, lstm_cell_41_layer_call_and_return_conditional_losses, lstm_cell_41_layer_call_fn, lstm_cell_43_layer_call_and_return_conditional_losses while saving (showing 5 of 20). These functions will not be directly callable after loading.\n",
            "WARNING:absl:Found untraced functions such as lstm_cell_40_layer_call_and_return_conditional_losses, lstm_cell_40_layer_call_fn, lstm_cell_41_layer_call_and_return_conditional_losses, lstm_cell_41_layer_call_fn, lstm_cell_43_layer_call_and_return_conditional_losses while saving (showing 5 of 20). These functions will not be directly callable after loading.\n"
          ],
          "name": "stderr"
        },
        {
          "output_type": "stream",
          "text": [
            "INFO:tensorflow:Assets written to: /content/drive/My Drive/Colab Notebooks/TSF/Models/pop_model/assets\n"
          ],
          "name": "stdout"
        },
        {
          "output_type": "stream",
          "text": [
            "INFO:tensorflow:Assets written to: /content/drive/My Drive/Colab Notebooks/TSF/Models/pop_model/assets\n"
          ],
          "name": "stderr"
        }
      ]
    },
    {
      "cell_type": "code",
      "metadata": {
        "colab": {
          "base_uri": "https://localhost:8080/"
        },
        "id": "wp4CcLRENdRQ",
        "outputId": "2a8d437c-65ab-4c3b-a093-21275ddee5dc"
      },
      "source": [
        "i = 1\n",
        "history = model.fit(xs, ys, epochs = 25)\n",
        "model.save('/content/drive/My Drive/Colab Notebooks/TSF/Models/pop_model_' + str(i))\n",
        "i += 1"
      ],
      "execution_count": null,
      "outputs": [
        {
          "output_type": "stream",
          "text": [
            "Epoch 1/25\n",
            "268/268 [==============================] - 3s 12ms/step - loss: 0.7108 - accuracy: 0.7924\n",
            "Epoch 2/25\n",
            "268/268 [==============================] - 3s 12ms/step - loss: 0.6888 - accuracy: 0.7994\n",
            "Epoch 3/25\n",
            "268/268 [==============================] - 3s 12ms/step - loss: 0.6903 - accuracy: 0.7996\n",
            "Epoch 4/25\n",
            "268/268 [==============================] - 3s 12ms/step - loss: 0.6655 - accuracy: 0.8051\n",
            "Epoch 5/25\n",
            "268/268 [==============================] - 3s 12ms/step - loss: 0.6486 - accuracy: 0.8087\n",
            "Epoch 6/25\n",
            "268/268 [==============================] - 3s 12ms/step - loss: 0.6412 - accuracy: 0.8107\n",
            "Epoch 7/25\n",
            "268/268 [==============================] - 3s 12ms/step - loss: 0.6883 - accuracy: 0.7969\n",
            "Epoch 8/25\n",
            "268/268 [==============================] - 3s 13ms/step - loss: 0.7322 - accuracy: 0.7831\n",
            "Epoch 9/25\n",
            "268/268 [==============================] - 3s 12ms/step - loss: 0.7635 - accuracy: 0.7768\n",
            "Epoch 10/25\n",
            "268/268 [==============================] - 3s 12ms/step - loss: 0.7754 - accuracy: 0.7701\n",
            "Epoch 11/25\n",
            "268/268 [==============================] - 3s 12ms/step - loss: 0.7544 - accuracy: 0.7811\n",
            "Epoch 12/25\n",
            "268/268 [==============================] - 3s 12ms/step - loss: 0.7333 - accuracy: 0.7815\n",
            "Epoch 13/25\n",
            "268/268 [==============================] - 3s 12ms/step - loss: 0.7083 - accuracy: 0.7893\n",
            "Epoch 14/25\n",
            "268/268 [==============================] - 3s 12ms/step - loss: 0.6654 - accuracy: 0.8042\n",
            "Epoch 15/25\n",
            "268/268 [==============================] - 3s 13ms/step - loss: 0.6170 - accuracy: 0.8166\n",
            "Epoch 16/25\n",
            "268/268 [==============================] - 3s 12ms/step - loss: 0.6027 - accuracy: 0.8188\n",
            "Epoch 17/25\n",
            "268/268 [==============================] - 3s 12ms/step - loss: 0.6055 - accuracy: 0.8194\n",
            "Epoch 18/25\n",
            "268/268 [==============================] - 3s 12ms/step - loss: 0.6595 - accuracy: 0.8030\n",
            "Epoch 19/25\n",
            "268/268 [==============================] - 3s 12ms/step - loss: 0.6853 - accuracy: 0.7943\n",
            "Epoch 20/25\n",
            "268/268 [==============================] - 3s 12ms/step - loss: 0.6818 - accuracy: 0.7964\n",
            "Epoch 21/25\n",
            "268/268 [==============================] - 3s 12ms/step - loss: 0.6688 - accuracy: 0.7998\n",
            "Epoch 22/25\n",
            "268/268 [==============================] - 3s 12ms/step - loss: 0.7423 - accuracy: 0.7810\n",
            "Epoch 23/25\n",
            "268/268 [==============================] - 3s 12ms/step - loss: 0.7030 - accuracy: 0.7874\n",
            "Epoch 24/25\n",
            "268/268 [==============================] - 3s 12ms/step - loss: 0.6606 - accuracy: 0.7980\n",
            "Epoch 25/25\n",
            "268/268 [==============================] - 3s 12ms/step - loss: 0.6777 - accuracy: 0.7993\n"
          ],
          "name": "stdout"
        },
        {
          "output_type": "stream",
          "text": [
            "WARNING:absl:Found untraced functions such as lstm_cell_40_layer_call_and_return_conditional_losses, lstm_cell_40_layer_call_fn, lstm_cell_41_layer_call_and_return_conditional_losses, lstm_cell_41_layer_call_fn, lstm_cell_43_layer_call_and_return_conditional_losses while saving (showing 5 of 20). These functions will not be directly callable after loading.\n",
            "WARNING:absl:Found untraced functions such as lstm_cell_40_layer_call_and_return_conditional_losses, lstm_cell_40_layer_call_fn, lstm_cell_41_layer_call_and_return_conditional_losses, lstm_cell_41_layer_call_fn, lstm_cell_43_layer_call_and_return_conditional_losses while saving (showing 5 of 20). These functions will not be directly callable after loading.\n"
          ],
          "name": "stderr"
        },
        {
          "output_type": "stream",
          "text": [
            "INFO:tensorflow:Assets written to: /content/drive/My Drive/Colab Notebooks/TSF/Models/pop_model_1/assets\n"
          ],
          "name": "stdout"
        },
        {
          "output_type": "stream",
          "text": [
            "INFO:tensorflow:Assets written to: /content/drive/My Drive/Colab Notebooks/TSF/Models/pop_model_1/assets\n"
          ],
          "name": "stderr"
        }
      ]
    },
    {
      "cell_type": "code",
      "metadata": {
        "id": "RP5DYetmTxwd",
        "colab": {
          "base_uri": "https://localhost:8080/",
          "height": 578
        },
        "outputId": "15853357-d8ee-4daa-d57a-92d14115027f"
      },
      "source": [
        "acc = history.history['accuracy']\n",
        "loss = history.history['loss']\n",
        "\n",
        "epochs = range(len(acc))\n",
        "\n",
        "plt.plot(epochs, acc, label='Training accuracy')\n",
        "plt.title('Training accuracy')\n",
        "plt.figure()\n",
        "\n",
        "plt.plot(epochs, loss, label='Training loss')\n",
        "plt.title('Training loss')\n",
        "plt.figure()"
      ],
      "execution_count": null,
      "outputs": [
        {
          "output_type": "execute_result",
          "data": {
            "text/plain": [
              "<Figure size 432x288 with 0 Axes>"
            ]
          },
          "metadata": {
            "tags": []
          },
          "execution_count": 31
        },
        {
          "output_type": "display_data",
          "data": {
            "image/png": "[encoded data removed]",
            "text/plain": [
              "<Figure size 432x288 with 1 Axes>"
            ]
          },
          "metadata": {
            "tags": [],
            "needs_background": "light"
          }
        },
        {
          "output_type": "display_data",
          "data": {
            "image/png": "[encoded data removed]",
            "text/plain": [
              "<Figure size 432x288 with 1 Axes>"
            ]
          },
          "metadata": {
            "tags": [],
            "needs_background": "light"
          }
        },
        {
          "output_type": "display_data",
          "data": {
            "text/plain": [
              "<Figure size 432x288 with 0 Axes>"
            ]
          },
          "metadata": {
            "tags": []
          }
        }
      ]
    },
    {
      "cell_type": "code",
      "metadata": {
        "id": "1jhTLCooUGsc",
        "colab": {
          "base_uri": "https://localhost:8080/"
        },
        "outputId": "53934ed1-00bb-449f-f318-a8965772dd79"
      },
      "source": [
        "model = tf.keras.models.load_model('/content/drive/My Drive/Colab Notebooks/TSF/Models/pop_model_25')"
      ],
      "execution_count": null,
      "outputs": [
        {
          "output_type": "stream",
          "text": [
            "I'm the one that he answers to go shot in my sea n' full of vodka rap full of faggots and crack it nada lick eye oh man oh some some me\n"
          ],
          "name": "stdout"
        }
      ]
    },
    {
      "cell_type": "code",
      "metadata": {
        "colab": {
          "base_uri": "https://localhost:8080/"
        },
        "id": "66kTH8c1SPfV",
        "outputId": "3597ea85-008d-4b54-e594-471bb6bf7ab2"
      },
      "source": [
        "seed_text = \"I'm the\"\n",
        "next_words = 30\n",
        "  \n",
        "for _ in range(next_words):\n",
        "\ttoken_list = tokenizer.texts_to_sequences([seed_text])[0]\n",
        "\ttoken_list = pad_sequences([token_list], maxlen = max_length - 1, padding='pre')\n",
        "\tpredicted = np.argmax(model.predict(token_list), axis=-1)\n",
        "\toutput_word = \"\"\n",
        "\tfor word, index in tokenizer.word_index.items():\n",
        "\t\tif index == predicted:\n",
        "\t\t\toutput_word = word\n",
        "\t\t\tbreak\n",
        "\tseed_text += \" \" + output_word\n",
        "print(seed_text)"
      ],
      "execution_count": null,
      "outputs": [
        {
          "output_type": "stream",
          "text": [
            "I'm the one that he answers to go shot in my sea n' full of vodka rap full of faggots and crack it nada lick eye oh man oh some some me\n"
          ],
          "name": "stdout"
        }
      ]
    }
  ]
}