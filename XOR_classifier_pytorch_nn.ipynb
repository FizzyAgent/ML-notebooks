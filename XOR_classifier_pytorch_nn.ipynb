{
  "nbformat": 4,
  "nbformat_minor": 0,
  "metadata": {
    "colab": {
      "name": "XOR_classifier.ipynb",
      "provenance": [],
      "collapsed_sections": []
    },
    "kernelspec": {
      "name": "python3",
      "display_name": "Python 3"
    },
    "language_info": {
      "name": "python"
    }
  },
  "cells": [
    {
      "cell_type": "code",
      "metadata": {
        "id": "fI6ggRoDSc75"
      },
      "source": [
        "import time\n",
        "\n",
        "import matplotlib.pyplot as plt\n",
        "import numpy as np\n",
        "import torch\n",
        "import torch.nn as nn\n",
        "import torch.utils.data as data"
      ],
      "execution_count": null,
      "outputs": []
    },
    {
      "cell_type": "code",
      "metadata": {
        "colab": {
          "base_uri": "https://localhost:8080/"
        },
        "id": "XROC5FDqUeMA",
        "outputId": "96ee8fea-385c-4958-ce61-17157cf27222"
      },
      "source": [
        "print(\"Using torch\", torch.__version__)"
      ],
      "execution_count": null,
      "outputs": [
        {
          "output_type": "stream",
          "name": "stdout",
          "text": [
            "Using torch 1.10.0+cu111\n"
          ]
        }
      ]
    },
    {
      "cell_type": "code",
      "metadata": {
        "colab": {
          "base_uri": "https://localhost:8080/"
        },
        "id": "WZc83akzUh4Z",
        "outputId": "300a243e-3c28-49fa-a30d-ade3c36597b4"
      },
      "source": [
        "print(f\"Is the GPU available? {torch.cuda.is_available()}\")"
      ],
      "execution_count": null,
      "outputs": [
        {
          "output_type": "stream",
          "name": "stdout",
          "text": [
            "Is the GPU available? False\n"
          ]
        }
      ]
    },
    {
      "cell_type": "code",
      "metadata": {
        "id": "PUuEcxkxVfbb"
      },
      "source": [
        "class LiteNN(nn.Module):\n",
        "    def __init__(self):\n",
        "        super().__init__()\n",
        "        self.linear1 = nn.Linear(2, 4)\n",
        "        self.act1 = nn.LeakyReLU()\n",
        "        self.linear2 = nn.Linear(4, 2)\n",
        "        self.act2 = nn.LeakyReLU()\n",
        "        self.linear3 = nn.Linear(2, 1)\n",
        "\n",
        "    def forward(self, x):\n",
        "        x = self.linear1(x)\n",
        "        x = self.act1(x)\n",
        "        x = self.linear2(x)\n",
        "        x = self.act2(x)\n",
        "        x = self.linear3(x)\n",
        "        return x"
      ],
      "execution_count": null,
      "outputs": []
    },
    {
      "cell_type": "code",
      "metadata": {
        "colab": {
          "base_uri": "https://localhost:8080/"
        },
        "id": "d0MqH566c_sD",
        "outputId": "4c7e65d9-80a9-4252-c2ed-051627ed1dde"
      },
      "source": [
        "model = LiteNN()\n",
        "print(model)\n",
        "for name, param in model.named_parameters():\n",
        "    print(f\"Parameter {name}, shape {param.shape}\")"
      ],
      "execution_count": null,
      "outputs": [
        {
          "output_type": "stream",
          "name": "stdout",
          "text": [
            "LiteNN(\n",
            "  (linear1): Linear(in_features=2, out_features=4, bias=True)\n",
            "  (act1): LeakyReLU(negative_slope=0.01)\n",
            "  (linear2): Linear(in_features=4, out_features=2, bias=True)\n",
            "  (act2): LeakyReLU(negative_slope=0.01)\n",
            "  (linear3): Linear(in_features=2, out_features=1, bias=True)\n",
            ")\n",
            "Parameter linear1.weight, shape torch.Size([4, 2])\n",
            "Parameter linear1.bias, shape torch.Size([4])\n",
            "Parameter linear2.weight, shape torch.Size([2, 4])\n",
            "Parameter linear2.bias, shape torch.Size([2])\n",
            "Parameter linear3.weight, shape torch.Size([1, 2])\n",
            "Parameter linear3.bias, shape torch.Size([1])\n"
          ]
        }
      ]
    },
    {
      "cell_type": "code",
      "metadata": {
        "id": "LeQ8atWidKWq"
      },
      "source": [
        "class XORDataset(data.Dataset):\n",
        "    def __init__(self, size, std=0.1):\n",
        "        super().__init__()\n",
        "        self.size = size\n",
        "        self.std = std\n",
        "        self.generate_continuous_xor()\n",
        "\n",
        "    def generate_continuous_xor(self):\n",
        "        data = torch.randint(low=0, high=2, size=(self.size, 2), dtype=torch.float32)\n",
        "        label = (data.sum(dim=1) == 1).to(torch.long)\n",
        "        data += self.std * torch.randn(data.shape)\n",
        "\n",
        "        self.data = data\n",
        "        self.label = label\n",
        "\n",
        "    def __len__(self):\n",
        "        return self.size\n",
        "\n",
        "    def __getitem__(self, idx):\n",
        "        data_point = self.data[idx]\n",
        "        data_label = self.label[idx]\n",
        "        return data_point, data_label"
      ],
      "execution_count": null,
      "outputs": []
    },
    {
      "cell_type": "code",
      "metadata": {
        "colab": {
          "base_uri": "https://localhost:8080/"
        },
        "id": "EvLgx2DDenWC",
        "outputId": "586b87db-8615-4f79-a738-a539aa83a0f5"
      },
      "source": [
        "train_dataset = XORDataset(size=1024, std=0.3)\n",
        "print(\"Size of dataset:\", len(dataset))\n",
        "print(\"Number of zeros:\", len([l for l in dataset.label if l == 0]))\n",
        "print(\"Number of ones:\", len([l for l in dataset.label if l == 1]))\n",
        "i = 0"
      ],
      "execution_count": null,
      "outputs": [
        {
          "output_type": "stream",
          "name": "stdout",
          "text": [
            "Size of dataset: 1024\n",
            "Number of zeros: 506\n",
            "Number of ones: 518\n"
          ]
        }
      ]
    },
    {
      "cell_type": "code",
      "metadata": {
        "colab": {
          "base_uri": "https://localhost:8080/"
        },
        "id": "QSRwnrnzesa5",
        "outputId": "5d12a3e4-d1f4-4449-bbc4-90776b82ebe1"
      },
      "source": [
        "print(\"Data point\", str(i) + \":\", dataset[i])\n",
        "i += 1"
      ],
      "execution_count": null,
      "outputs": [
        {
          "output_type": "stream",
          "name": "stdout",
          "text": [
            "Data point 0: (tensor([-0.2894, -0.0066]), tensor(0))\n"
          ]
        }
      ]
    },
    {
      "cell_type": "code",
      "metadata": {
        "id": "BLy2bHDiezRf"
      },
      "source": [
        "def visualize_samples(data, label):\n",
        "    if isinstance(data, torch.Tensor):\n",
        "        data = data.cpu().numpy()\n",
        "    if isinstance(label, torch.Tensor):\n",
        "        label = label.cpu().numpy()\n",
        "    data_0 = data[label == 0]\n",
        "    data_1 = data[label == 1]\n",
        "\n",
        "    plt.figure(figsize=(4, 4))\n",
        "    plt.scatter(data_0[:, 0], data_0[:, 1], edgecolor=\"#333\", label=\"Class 0\")\n",
        "    plt.scatter(data_1[:, 0], data_1[:, 1], edgecolor=\"#333\", label=\"Class 1\")\n",
        "    plt.title(\"Dataset samples\")\n",
        "    plt.ylabel(r\"$x_2$\")\n",
        "    plt.xlabel(r\"$x_1$\")\n",
        "    plt.legend()"
      ],
      "execution_count": null,
      "outputs": []
    },
    {
      "cell_type": "code",
      "metadata": {
        "colab": {
          "base_uri": "https://localhost:8080/",
          "height": 297
        },
        "id": "h9KJRf3KfE37",
        "outputId": "846162a3-84ba-44e4-f5c3-d54526df2681"
      },
      "source": [
        "visualize_samples(dataset.data, dataset.label)\n",
        "plt.show()"
      ],
      "execution_count": null,
      "outputs": [
        {
          "output_type": "display_data",
          "data": {
            "image/png": "[encoded data removed]",
            "text/plain": [
              "<Figure size 288x288 with 1 Axes>"
            ]
          },
          "metadata": {
            "needs_background": "light"
          }
        }
      ]
    },
    {
      "cell_type": "code",
      "metadata": {
        "id": "xMjPuXz8fJGF"
      },
      "source": [
        "train_data_loader = data.DataLoader(dataset, batch_size=128, shuffle=True)"
      ],
      "execution_count": null,
      "outputs": []
    },
    {
      "cell_type": "code",
      "metadata": {
        "colab": {
          "base_uri": "https://localhost:8080/"
        },
        "id": "DPBhka6-gmVc",
        "outputId": "95901cbf-d532-41fe-a7a0-d758a7c3eab1"
      },
      "source": [
        "data_inputs, data_labels = next(iter(data_loader))\n",
        "\n",
        "print(\"Data inputs\", data_inputs.shape)\n",
        "print(\"Data labels\", data_labels.shape)"
      ],
      "execution_count": null,
      "outputs": [
        {
          "output_type": "stream",
          "name": "stdout",
          "text": [
            "Data inputs torch.Size([16, 2]) \n",
            " tensor([[ 0.8465,  0.8299],\n",
            "        [ 0.8170, -0.0286],\n",
            "        [ 0.7264,  0.3938],\n",
            "        [-0.3332,  1.3751],\n",
            "        [-0.2038, -0.2126],\n",
            "        [ 1.2624,  0.1439],\n",
            "        [-0.3479, -0.1147],\n",
            "        [ 1.2250,  1.0366],\n",
            "        [ 0.5788,  1.0370],\n",
            "        [ 0.3694, -0.4413],\n",
            "        [ 1.1147,  0.1449],\n",
            "        [ 0.2452,  0.0735],\n",
            "        [ 0.6279,  0.8443],\n",
            "        [-0.2442,  0.2357],\n",
            "        [ 0.1435,  1.1767],\n",
            "        [-0.2264,  0.0117]])\n",
            "Data labels torch.Size([16]) \n",
            " tensor([0, 1, 0, 1, 0, 1, 0, 0, 0, 0, 1, 0, 0, 1, 1, 0])\n"
          ]
        }
      ]
    },
    {
      "cell_type": "code",
      "metadata": {
        "id": "hE_-tixngusT"
      },
      "source": [
        "learning_rate = 0.01\n",
        "loss_module = nn.BCEWithLogitsLoss()\n",
        "optimizer = torch.optim.Adam(model.parameters(), lr=learning_rate)"
      ],
      "execution_count": null,
      "outputs": []
    },
    {
      "cell_type": "code",
      "metadata": {
        "id": "lquB0PTeiJ-T"
      },
      "source": [],
      "execution_count": null,
      "outputs": []
    }
  ]
}